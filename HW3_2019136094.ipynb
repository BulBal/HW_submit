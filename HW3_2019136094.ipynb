{
 "cells": [
  {
   "cell_type": "code",
   "execution_count": 2,
   "metadata": {},
   "outputs": [
    {
     "name": "stdout",
     "output_type": "stream",
     "text": [
      "Defaulting to user installation because normal site-packages is not writeable\n",
      "Looking in indexes: https://pypi.org/simple, https://pypi.ngc.nvidia.com\n",
      "Collecting wandb\n",
      "  Downloading wandb-0.18.7-py3-none-manylinux_2_17_x86_64.manylinux2014_x86_64.whl.metadata (9.7 kB)\n",
      "Requirement already satisfied: click!=8.0.0,>=7.1 in /usr/local/lib/python3.10/dist-packages (from wandb) (8.1.7)\n",
      "Collecting docker-pycreds>=0.4.0 (from wandb)\n",
      "  Downloading docker_pycreds-0.4.0-py2.py3-none-any.whl.metadata (1.8 kB)\n",
      "Requirement already satisfied: gitpython!=3.1.29,>=1.0.0 in /usr/local/lib/python3.10/dist-packages (from wandb) (3.1.26)\n",
      "Requirement already satisfied: platformdirs in /usr/local/lib/python3.10/dist-packages (from wandb) (4.2.0)\n",
      "Requirement already satisfied: protobuf!=4.21.0,!=5.28.0,<6,>=3.19.0 in /usr/local/lib/python3.10/dist-packages (from wandb) (3.20.3)\n",
      "Requirement already satisfied: psutil>=5.0.0 in /usr/local/lib/python3.10/dist-packages (from wandb) (5.9.4)\n",
      "Requirement already satisfied: pyyaml in /usr/local/lib/python3.10/dist-packages (from wandb) (6.0.1)\n",
      "Requirement already satisfied: requests<3,>=2.0.0 in /usr/local/lib/python3.10/dist-packages (from wandb) (2.31.0)\n",
      "Collecting sentry-sdk>=2.0.0 (from wandb)\n",
      "  Downloading sentry_sdk-2.19.0-py2.py3-none-any.whl.metadata (9.9 kB)\n",
      "Collecting setproctitle (from wandb)\n",
      "  Downloading setproctitle-1.3.4-cp310-cp310-manylinux_2_5_x86_64.manylinux1_x86_64.manylinux_2_17_x86_64.manylinux2014_x86_64.whl.metadata (10 kB)\n",
      "Requirement already satisfied: setuptools in /usr/local/lib/python3.10/dist-packages (from wandb) (68.2.2)\n",
      "Requirement already satisfied: typing-extensions<5,>=4.4 in /usr/local/lib/python3.10/dist-packages (from wandb) (4.10.0)\n",
      "Requirement already satisfied: six>=1.4.0 in /usr/local/lib/python3.10/dist-packages (from docker-pycreds>=0.4.0->wandb) (1.16.0)\n",
      "Requirement already satisfied: gitdb<5,>=4.0.1 in /usr/local/lib/python3.10/dist-packages (from gitpython!=3.1.29,>=1.0.0->wandb) (4.0.5)\n",
      "Requirement already satisfied: charset-normalizer<4,>=2 in /usr/local/lib/python3.10/dist-packages (from requests<3,>=2.0.0->wandb) (3.3.2)\n",
      "Requirement already satisfied: idna<4,>=2.5 in /usr/local/lib/python3.10/dist-packages (from requests<3,>=2.0.0->wandb) (3.6)\n",
      "Requirement already satisfied: urllib3<3,>=1.21.1 in /usr/local/lib/python3.10/dist-packages (from requests<3,>=2.0.0->wandb) (1.26.18)\n",
      "Requirement already satisfied: certifi>=2017.4.17 in /usr/local/lib/python3.10/dist-packages (from requests<3,>=2.0.0->wandb) (2024.2.2)\n",
      "Requirement already satisfied: smmap<4,>=3.0.1 in /usr/local/lib/python3.10/dist-packages (from gitdb<5,>=4.0.1->gitpython!=3.1.29,>=1.0.0->wandb) (3.0.5)\n",
      "Downloading wandb-0.18.7-py3-none-manylinux_2_17_x86_64.manylinux2014_x86_64.whl (16.1 MB)\n",
      "\u001b[2K   \u001b[90m━━━━━━━━━━━━━━━━━━━━━━━━━━━━━━━━━━━━━━━━\u001b[0m \u001b[32m16.1/16.1 MB\u001b[0m \u001b[31m19.0 MB/s\u001b[0m eta \u001b[36m0:00:00\u001b[0m00:01\u001b[0m00:01\u001b[0m\n",
      "\u001b[?25hDownloading docker_pycreds-0.4.0-py2.py3-none-any.whl (9.0 kB)\n",
      "Downloading sentry_sdk-2.19.0-py2.py3-none-any.whl (322 kB)\n",
      "\u001b[2K   \u001b[90m━━━━━━━━━━━━━━━━━━━━━━━━━━━━━━━━━━━━━━━\u001b[0m \u001b[32m322.2/322.2 kB\u001b[0m \u001b[31m248.6 MB/s\u001b[0m eta \u001b[36m0:00:00\u001b[0m\n",
      "\u001b[?25hDownloading setproctitle-1.3.4-cp310-cp310-manylinux_2_5_x86_64.manylinux1_x86_64.manylinux_2_17_x86_64.manylinux2014_x86_64.whl (30 kB)\n",
      "\u001b[33mDEPRECATION: devscripts 2.22.1ubuntu1 has a non-standard version number. pip 24.1 will enforce this behaviour change. A possible replacement is to upgrade to a newer version of devscripts or contact the author to suggest that they release a version with a conforming version number. Discussion can be found at https://github.com/pypa/pip/issues/12063\u001b[0m\u001b[33m\n",
      "\u001b[0mInstalling collected packages: setproctitle, sentry-sdk, docker-pycreds, wandb\n",
      "Successfully installed docker-pycreds-0.4.0 sentry-sdk-2.19.0 setproctitle-1.3.4 wandb-0.18.7\n",
      "\n",
      "\u001b[1m[\u001b[0m\u001b[34;49mnotice\u001b[0m\u001b[1;39;49m]\u001b[0m\u001b[39;49m A new release of pip is available: \u001b[0m\u001b[31;49m24.0\u001b[0m\u001b[39;49m -> \u001b[0m\u001b[32;49m24.3.1\u001b[0m\n",
      "\u001b[1m[\u001b[0m\u001b[34;49mnotice\u001b[0m\u001b[1;39;49m]\u001b[0m\u001b[39;49m To update, run: \u001b[0m\u001b[32;49mpython3 -m pip install --upgrade pip\u001b[0m\n",
      "Note: you may need to restart the kernel to use updated packages.\n"
     ]
    }
   ],
   "source": [
    "pip install wandb"
   ]
  },
  {
   "cell_type": "code",
   "execution_count": 1,
   "metadata": {
    "executionInfo": {
     "elapsed": 29394,
     "status": "ok",
     "timestamp": 1732351433992,
     "user": {
      "displayName": "이수성",
      "userId": "14782213581685682802"
     },
     "user_tz": -540
    },
    "id": "JVXz5kMI7t2b"
   },
   "outputs": [],
   "source": [
    "import os\n",
    "from pathlib import Path\n",
    "import torch\n",
    "import wandb\n",
    "from torch import nn\n",
    "\n",
    "from torch.utils.data import DataLoader, random_split\n",
    "from torchvision import datasets\n",
    "from torchvision.transforms import transforms"
   ]
  },
  {
   "cell_type": "code",
   "execution_count": 2,
   "metadata": {
    "executionInfo": {
     "elapsed": 2,
     "status": "ok",
     "timestamp": 1732351433993,
     "user": {
      "displayName": "이수성",
      "userId": "14782213581685682802"
     },
     "user_tz": -540
    },
    "id": "dmPWPoki9-oM"
   },
   "outputs": [],
   "source": [
    "import multiprocessing\n",
    "\n",
    "def get_num_cpu_cores():\n",
    "    \"\"\"CPU 코어 수를 반환\"\"\"\n",
    "    return multiprocessing.cpu_count()\n",
    "\n",
    "def is_linux():\n",
    "    \"\"\"Linux 시스템인지 확인\"\"\"\n",
    "    return os.name == \"posix\"\n",
    "\n",
    "def is_windows():\n",
    "    \"\"\"Windows 시스템인지 확인\"\"\"\n",
    "    return os.name == \"nt\""
   ]
  },
  {
   "cell_type": "code",
   "execution_count": 3,
   "metadata": {
    "executionInfo": {
     "elapsed": 2,
     "status": "ok",
     "timestamp": 1732351433993,
     "user": {
      "displayName": "이수성",
      "userId": "14782213581685682802"
     },
     "user_tz": -540
    },
    "id": "luryXnrN8IF9"
   },
   "outputs": [],
   "source": [
    "DATA_PATH =\"./j_fashion_mnist\"\n",
    "os.makedirs(DATA_PATH, exist_ok=True)"
   ]
  },
  {
   "cell_type": "code",
   "execution_count": 4,
   "metadata": {
    "executionInfo": {
     "elapsed": 2,
     "status": "ok",
     "timestamp": 1732351433993,
     "user": {
      "displayName": "이수성",
      "userId": "14782213581685682802"
     },
     "user_tz": -540
    },
    "id": "I42neGIR8I15"
   },
   "outputs": [],
   "source": [
    "def get_fashion_mnist_data():\n",
    "    #데이터셋이 저장될 path 지정\n",
    "    #데이터 셋 다운로드 (해당 경로에 데이터셋이 없다면 download 실행)\n",
    "    #데이터 셋 분할 -> 훈련/ 검증\n",
    "    data_path = os.path.join(DATA_PATH)\n",
    "\n",
    "    f_mnist_train = datasets.FashionMNIST(data_path, train=True, download=True, transform=transforms.ToTensor())\n",
    "    f_mnist_train, f_mnist_validation = random_split(f_mnist_train, [55_000, 5_000])\n",
    "\n",
    "    print(\"Num Train Samples: \", len(f_mnist_train))\n",
    "    print(\"Num Validation Samples: \", len(f_mnist_validation))\n",
    "    print(\"Sample Shape: \", f_mnist_train[0][0].shape)  # torch.Size([1, 28, 28])\n",
    "\n",
    "    num_data_loading_workers = get_num_cpu_cores() if is_linux() or is_windows() else 0\n",
    "    print(\"Number of Data Loading Workers:\", num_data_loading_workers)\n",
    "\n",
    "    # 훈련 데이터셋 로더 생성\n",
    "    train_data_loader = DataLoader(\n",
    "        dataset=f_mnist_train, batch_size=wandb.config.batch_size, shuffle=True,\n",
    "        pin_memory=True, num_workers=num_data_loading_workers\n",
    "    )\n",
    "    # 검증 데이터셋 로더 생성\n",
    "    validation_data_loader = DataLoader(\n",
    "        dataset=f_mnist_validation, batch_size=wandb.config.batch_size,\n",
    "        pin_memory=True, num_workers=num_data_loading_workers\n",
    "    )\n",
    "\n",
    "    # 이미지에 대한 정규화 실시(1번 문제 : FashionMnist 데이터셋의 평균과 표준 편차를 구하여 적용시키기)\n",
    "    f_mnist_transforms = nn.Sequential(\n",
    "        transforms.ConvertImageDtype(torch.float),\n",
    "        # 구해진 평균값과 표준편차값 입력\n",
    "        transforms.Normalize(mean=0.2860, std=0.3530),\n",
    "    )\n",
    "    return train_data_loader, validation_data_loader, f_mnist_transforms"
   ]
  },
  {
   "cell_type": "code",
   "execution_count": 5,
   "metadata": {
    "executionInfo": {
     "elapsed": 2,
     "status": "ok",
     "timestamp": 1732351433993,
     "user": {
      "displayName": "이수성",
      "userId": "14782213581685682802"
     },
     "user_tz": -540
    },
    "id": "CNUKw7iL8I_Y"
   },
   "outputs": [],
   "source": [
    "def calculate_mean_std(dataset):\n",
    "    \"\"\"\n",
    "    데이터셋의 평균(mean)과 표준편차(std)를 계산하는 함수\n",
    "    :param dataset: 데이터셋 (FashionMNIST)\n",
    "    :return: 평균(mean), 표준편차(std)\n",
    "    \"\"\"\n",
    "    data_loader = DataLoader(dataset, batch_size=len(dataset), shuffle=False)\n",
    "    # 데이터셋을 한 번에 모두 로드\n",
    "    data = next(iter(data_loader))[0]  # 이미지 데이터만 가져옴\n",
    "    data = data.view(data.size(0), -1)  # (batch_size, channels, height, width) -> (batch_size, all_pixels)\n",
    "\n",
    "    mean = data.mean()  # 전체 픽셀의 평균 계산\n",
    "    std = data.std()  # 전체 픽셀의 표준편차 계산\n",
    "    print(mean,std)\n",
    "    return mean.item(), std.item()"
   ]
  },
  {
   "cell_type": "code",
   "execution_count": 6,
   "metadata": {
    "executionInfo": {
     "elapsed": 2,
     "status": "ok",
     "timestamp": 1732353044958,
     "user": {
      "displayName": "이수성",
      "userId": "14782213581685682802"
     },
     "user_tz": -540
    },
    "id": "IZBvlJlm8JF9"
   },
   "outputs": [],
   "source": [
    "def get_fashion_mnist_test_data():\n",
    "    data_path = os.path.join(DATA_PATH)\n",
    "\n",
    "    f_mnist_test_images = datasets.FashionMNIST(data_path, train=False, download=True)\n",
    "    f_mnist_test = datasets.FashionMNIST(data_path, train=False, download=True, transform=transforms.ToTensor())\n",
    "\n",
    "    print(\"Num Test Samples: \", len(f_mnist_test))\n",
    "    print(\"Sample Shape: \", f_mnist_test[0][0].shape)  # torch.Size([1, 28, 28])\n",
    "\n",
    "    test_data_loader = DataLoader(dataset=f_mnist_test, batch_size=len(f_mnist_test))\n",
    "\n",
    "    f_mnist_transforms = nn.Sequential(\n",
    "        transforms.ConvertImageDtype(torch.float),\n",
    "        # 구해진 평균값과 표준편차값 사용\n",
    "        transforms.Normalize(mean=0.2860, std=0.3530),\n",
    "    )\n",
    "\n",
    "    return f_mnist_test_images, test_data_loader, f_mnist_transforms"
   ]
  },
  {
   "cell_type": "markdown",
   "metadata": {},
   "source": [
    "# 문제 1번. FashionMNIST 데이터의 평균값과 표준편차값을 구하여 정규화 하시오"
   ]
  },
  {
   "cell_type": "code",
   "execution_count": 7,
   "metadata": {
    "colab": {
     "base_uri": "https://localhost:8080/"
    },
    "executionInfo": {
     "elapsed": 20756,
     "status": "ok",
     "timestamp": 1732196836347,
     "user": {
      "displayName": "이수성",
      "userId": "14782213581685682802"
     },
     "user_tz": -540
    },
    "id": "LCBaEUDB8JKs",
    "outputId": "f7c33492-cbfc-452b-f75a-06c03e815833"
   },
   "outputs": [
    {
     "name": "stdout",
     "output_type": "stream",
     "text": [
      "tensor(0.2860) tensor(0.3530)\n",
      "Mean: 0.28604060411453247, Std: 0.3530242443084717\n"
     ]
    }
   ],
   "source": [
    "data_path = os.path.join(DATA_PATH)\n",
    "f_mnist_train = datasets.FashionMNIST(data_path, train=True, download=True, transform=transforms.ToTensor())\n",
    "\n",
    "# 평균과 표준편차 계산\n",
    "mean, std = calculate_mean_std(f_mnist_train)\n",
    "print(f\"Mean: {mean}, Std: {std}\")\n",
    "# 계산시 mean : 0.2860  std : 0.3530 도출"
   ]
  },
  {
   "cell_type": "code",
   "execution_count": 8,
   "metadata": {
    "colab": {
     "base_uri": "https://localhost:8080/",
     "height": 144
    },
    "executionInfo": {
     "elapsed": 296,
     "status": "ok",
     "timestamp": 1732353051691,
     "user": {
      "displayName": "이수성",
      "userId": "14782213581685682802"
     },
     "user_tz": -540
    },
    "id": "60wkxG9W8JPN",
    "outputId": "211e520b-38da-4f81-ec62-631ef2b03903"
   },
   "outputs": [
    {
     "name": "stdout",
     "output_type": "stream",
     "text": [
      "Num Train Samples:  55000\n",
      "Num Validation Samples:  5000\n",
      "Sample Shape:  torch.Size([1, 28, 28])\n",
      "Number of Data Loading Workers: 2\n",
      "\n",
      "Num Test Samples:  10000\n",
      "Sample Shape:  torch.Size([1, 28, 28])\n"
     ]
    }
   ],
   "source": [
    "if __name__ == \"__main__\":\n",
    "\n",
    "    config = {'batch_size': 2048, }\n",
    "    wandb.init(mode=\"disabled\", config=config)\n",
    "\n",
    "    train_data_loader, validation_data_loader, f_mnist_transforms = get_fashion_mnist_data()\n",
    "    print()\n",
    "    f_mnist_test_images, test_data_loader, f_mnist_transforms = get_fashion_mnist_test_data()"
   ]
  },
  {
   "cell_type": "code",
   "execution_count": 9,
   "metadata": {
    "executionInfo": {
     "elapsed": 1,
     "status": "ok",
     "timestamp": 1732351435623,
     "user": {
      "displayName": "이수성",
      "userId": "14782213581685682802"
     },
     "user_tz": -540
    },
    "id": "TJNnK0s18JTF"
   },
   "outputs": [],
   "source": [
    "from torch import optim\n",
    "from datetime import datetime\n",
    "import wandb\n",
    "import sys"
   ]
  },
  {
   "cell_type": "code",
   "execution_count": null,
   "metadata": {
    "id": "-kU2TrZuPNnd"
   },
   "outputs": [],
   "source": []
  },
  {
   "cell_type": "code",
   "execution_count": 26,
   "metadata": {
    "executionInfo": {
     "elapsed": 321,
     "status": "ok",
     "timestamp": 1732352092117,
     "user": {
      "displayName": "이수성",
      "userId": "14782213581685682802"
     },
     "user_tz": -540
    },
    "id": "eHp1kBhv8JW5"
   },
   "outputs": [],
   "source": [
    "def get_vgg_model():\n",
    "    def vgg_block(num_conv_layers, out_channels):\n",
    "        layers = []\n",
    "        for _ in range(num_conv_layers):\n",
    "            layers.append(nn.LazyConv2d(out_channels=out_channels, kernel_size=3, padding=1))\n",
    "            layers.append(nn.ReLU())\n",
    "        layers.append(nn.MaxPool2d(kernel_size=2, stride=2))  # MaxPooling\n",
    "        block = nn.Sequential(*layers)\n",
    "        return block\n",
    "\n",
    "    class VGG(nn.Module):\n",
    "        def __init__(self, block_info, n_output=10):\n",
    "            super().__init__()\n",
    "            conv_blocks = []\n",
    "            for (num_conv_layers, out_channels) in block_info:\n",
    "                conv_blocks.append(vgg_block(num_conv_layers, out_channels))\n",
    "\n",
    "            self.model = nn.Sequential(\n",
    "                *conv_blocks,                # CNN Block Stacks\n",
    "                nn.Flatten(),               # Flatten output\n",
    "                nn.LazyLinear(512),\n",
    "                nn.ReLU(),\n",
    "                nn.Dropout(0.05),             # Dropout for regularization\n",
    "                nn.LazyLinear(out_features=512),\n",
    "                nn.ReLU(),\n",
    "                nn.Dropout(0.05),\n",
    "                nn.LazyLinear(n_output)      # Final output layer\n",
    "            )\n",
    "\n",
    "        def forward(self, x):\n",
    "            return self.model(x)\n",
    "\n",
    "    # Define VGG architecture for FashionMNIST\n",
    "    my_model = VGG(\n",
    "        block_info=((1, 64), (1, 128), (2, 256)),  # Conv block configuration\n",
    "        n_output=10  # FashionMNIST has 10 output classes\n",
    "    )\n",
    "    return my_model\n"
   ]
  },
  {
   "cell_type": "code",
   "execution_count": 36,
   "metadata": {
    "executionInfo": {
     "elapsed": 358,
     "status": "ok",
     "timestamp": 1732352095433,
     "user": {
      "displayName": "이수성",
      "userId": "14782213581685682802"
     },
     "user_tz": -540
    },
    "id": "rpILIfvy8-cP"
   },
   "outputs": [],
   "source": [
    "import torch\n",
    "import wandb\n",
    "import torch.nn as nn\n",
    "\n",
    "def training_loop(model, optimizer, train_data_loader, validation_data_loader, save_path=\"best_model.pth\"):\n",
    "    n_epochs = wandb.config.epochs  # 반복 횟수\n",
    "    loss_fn = nn.CrossEntropyLoss()  # 다중 클래스 분류 문제에 적합한 손실 함수\n",
    "    next_print_epoch = 2  # 2번마다 loss 출력\n",
    "    best_val_loss = float(\"inf\")  # 초기화된 최적 검증 손실\n",
    "\n",
    "    for epoch in range(1, n_epochs + 1):\n",
    "        # Training Phase\n",
    "        model.train()\n",
    "        loss_train = 0.0\n",
    "        num_trains = 0\n",
    "        correct_train = 0  # Training Accuracy 계산을 위한 변수\n",
    "        total_train = 0\n",
    "\n",
    "        for input, target in train_data_loader:\n",
    "            input, target = input.to(\"cuda\"), target.to(\"cuda\")  # GPU로 전송\n",
    "            output_train = model(input)  # 모델 예측 (logits)\n",
    "            loss = loss_fn(output_train, target)  # 손실 계산\n",
    "            loss_train += loss.item()\n",
    "            num_trains += 1\n",
    "\n",
    "            # Training Accuracy 계산\n",
    "            _, predicted = torch.max(output_train, 1)\n",
    "            correct_train += (predicted == target).sum().item()\n",
    "            total_train += target.size(0)\n",
    "\n",
    "            # Gradient Update\n",
    "            optimizer.zero_grad()\n",
    "            loss.backward()\n",
    "            optimizer.step()\n",
    "\n",
    "        # Validation Phase\n",
    "        model.eval()\n",
    "        loss_validation = 0.0\n",
    "        num_validations = 0\n",
    "        correct_val = 0  # Validation Accuracy 계산을 위한 변수\n",
    "        total_val = 0\n",
    "\n",
    "        with torch.no_grad():\n",
    "            for input, target in validation_data_loader:\n",
    "                input, target = input.to(\"cuda\"), target.to(\"cuda\")  # GPU로 전송\n",
    "                output_validation = model(input)  # 모델 예측\n",
    "                loss = loss_fn(output_validation, target)  # 손실 계산\n",
    "                loss_validation += loss.item()\n",
    "                num_validations += 1\n",
    "\n",
    "                # Validation Accuracy 계산\n",
    "                _, predicted = torch.max(output_validation, 1)\n",
    "                correct_val += (predicted == target).sum().item()\n",
    "                total_val += target.size(0)\n",
    "\n",
    "        # 평균 손실 및 정확도 계산\n",
    "        avg_train_loss = loss_train / num_trains\n",
    "        avg_val_loss = loss_validation / num_validations\n",
    "        train_accuracy = correct_train / total_train * 100\n",
    "        val_accuracy = correct_val / total_val * 100\n",
    "\n",
    "        # 최적 모델 저장\n",
    "        if avg_val_loss < best_val_loss:\n",
    "            best_val_loss = avg_val_loss\n",
    "            torch.save(model.state_dict(), save_path)  # 모델 가중치 저장\n",
    "            print(f\"Best model saved at epoch {epoch} with validation loss {best_val_loss:.4f}\")\n",
    "\n",
    "        # WandB 로그 작성\n",
    "        wandb.log({\n",
    "            \"Epoch\": epoch,\n",
    "            \"Training loss\": avg_train_loss,\n",
    "            \"Validation loss\": avg_val_loss,\n",
    "            \"Training Accuracy\": train_accuracy,\n",
    "            \"Validation Accuracy\": val_accuracy,\n",
    "        })\n",
    "\n",
    "        # 일정 에포크마다 결과 출력\n",
    "        if epoch >= next_print_epoch:\n",
    "            print(\n",
    "                f\"Epoch {epoch}, \"\n",
    "                f\"Train Loss: {avg_train_loss:.4f}, \"\n",
    "                f\"Val Loss: {avg_val_loss:.4f}, \"\n",
    "                f\"Train Accuracy: {train_accuracy:.2f}%, \"\n",
    "                f\"Val Accuracy: {val_accuracy:.2f}%\"\n",
    "            )\n",
    "            next_print_epoch += 2\n"
   ]
  },
  {
   "cell_type": "code",
   "execution_count": null,
   "metadata": {
    "id": "5dEzmOaXE7sR"
   },
   "outputs": [],
   "source": [
    "wandb.login(key=\"\")  \n",
    "os.environ['WANDB_API_KEY'] ='119449ae9a5389c4e15624a3fbcf6f30e575f0c4'\n"
   ]
  },
  {
   "cell_type": "code",
   "execution_count": 37,
   "metadata": {
    "executionInfo": {
     "elapsed": 320,
     "status": "ok",
     "timestamp": 1732352099622,
     "user": {
      "displayName": "이수성",
      "userId": "14782213581685682802"
     },
     "user_tz": -540
    },
    "id": "LQL6Zy-vE8QI"
   },
   "outputs": [],
   "source": [
    "def main(args):\n",
    "    #현재 시간 기록\n",
    "    current_time_str = datetime.now().astimezone().strftime('%Y-%m-%d_%H-%M-%S')\n",
    "\n",
    "    #모델에 설정할 값들을 담은 딕셔너리\n",
    "    #에포크, 배치사이즈, 러닝 레이트, 히든 유닛 개수 등 포함되어 있음\n",
    "    config = {\n",
    "        'epochs': args.epochs,\n",
    "        'batch_size': args.batch_size,\n",
    "        'learning_rate': 1e-3,\n",
    "    }\n",
    "\n",
    "    #wandb 모델의 초기값 생성\n",
    "    wandb.init(\n",
    "        mode=\"online\" if args.wandb else \"disabled\",\n",
    "        project=\"homework_03_\",\n",
    "        notes=\"Fashion_Mnist Dataset experiment_5\",\n",
    "        tags=[\"my_model\", \"Fashion_Mnist\"],\n",
    "        name=current_time_str,\n",
    "        config=config\n",
    "    )\n",
    "    print(args)\n",
    "    print(wandb.config)\n",
    "\n",
    "    #모델과 옵티마이저 생성\n",
    "    model = get_vgg_model()\n",
    "    device = \"cuda\" if torch.cuda.is_available() else \"cpu\"  # GPU가 있으면 cuda로, 없으면 CPU로 설정\n",
    "\n",
    "# 모델을 device로 이동\n",
    "    model = model.to(device)\n",
    "    optimizer = optim.Adam(model.parameters(), lr=wandb.config.learning_rate)\n",
    "\n",
    "    print(\"#\" * 50, 1)\n",
    "\n",
    "    #모델 train 시작.\n",
    "    training_loop(\n",
    "        model=model,\n",
    "        optimizer=optimizer,\n",
    "        train_data_loader=train_data_loader,\n",
    "        validation_data_loader=validation_data_loader\n",
    "    )\n",
    "    #train 끝\n",
    "\n",
    "\n",
    "    wandb.finish()\n",
    "    test_accuracy = test_model(model, test_data_loader, save_path=\"best_model.pth\")\n",
    "    print(f\"Final Test Accuracy: {test_accuracy:.2f}%\")"
   ]
  },
  {
   "cell_type": "code",
   "execution_count": null,
   "metadata": {},
   "outputs": [],
   "source": [
    "def test_model(model, test_data_loader, save_path=\"best_model.pth\"):\n",
    "    # 저장된 모델 가중치 로드\n",
    "    model.load_state_dict(torch.load(save_path))\n",
    "    model.eval()\n",
    "\n",
    "    correct = 0\n",
    "    total = 0\n",
    "\n",
    "    with torch.no_grad():\n",
    "        for input, target in test_data_loader:\n",
    "            input, target = input.to(\"cuda\"), target.to(\"cuda\")\n",
    "            output = model(input)\n",
    "            _, predicted = torch.max(output, 1)\n",
    "            correct += (predicted == target).sum().item()\n",
    "            total += target.size(0)\n",
    "\n",
    "    accuracy = correct / total * 100\n",
    "    print(f\"Test Accuracy: {accuracy:.2f}%\")\n",
    "    return accuracy"
   ]
  },
  {
   "cell_type": "markdown",
   "metadata": {},
   "source": [
    "# ===============================================\n",
    "\n",
    "# 문제 2, 3번 학습시키기 및 test accurancy 확인하기\n"
   ]
  },
  {
   "cell_type": "code",
   "execution_count": 40,
   "metadata": {
    "colab": {
     "base_uri": "https://localhost:8080/",
     "height": 688
    },
    "executionInfo": {
     "elapsed": 5693,
     "status": "error",
     "timestamp": 1732353150301,
     "user": {
      "displayName": "이수성",
      "userId": "14782213581685682802"
     },
     "user_tz": -540
    },
    "id": "tZ13LMlTE8gh",
    "outputId": "d4ec2a76-53ab-4cdc-a281-eab723241834"
   },
   "outputs": [
    {
     "data": {
      "text/html": [
       "Changes to your `wandb` environment variables will be ignored because your `wandb` session has already started. For more information on how to modify your settings with `wandb.init()` arguments, please refer to <a href='https://wandb.me/wandb-init' target=\"_blank\">the W&B docs</a>."
      ],
      "text/plain": [
       "<IPython.core.display.HTML object>"
      ]
     },
     "metadata": {},
     "output_type": "display_data"
    },
    {
     "data": {
      "application/vnd.jupyter.widget-view+json": {
       "model_id": "4a812c03cc034824891257390d5345cc",
       "version_major": 2,
       "version_minor": 0
      },
      "text/plain": [
       "VBox(children=(Label(value='Waiting for wandb.init()...\\r'), FloatProgress(value=0.011112506439288457, max=1.0…"
      ]
     },
     "metadata": {},
     "output_type": "display_data"
    },
    {
     "data": {
      "text/html": [
       "Tracking run with wandb version 0.18.7"
      ],
      "text/plain": [
       "<IPython.core.display.HTML object>"
      ]
     },
     "metadata": {},
     "output_type": "display_data"
    },
    {
     "data": {
      "text/html": [
       "Run data is saved locally in <code>/home/work/DL_session/wandb/run-20241123_131807-yox0werp</code>"
      ],
      "text/plain": [
       "<IPython.core.display.HTML object>"
      ]
     },
     "metadata": {},
     "output_type": "display_data"
    },
    {
     "data": {
      "text/html": [
       "Syncing run <strong><a href='https://wandb.ai/lss523012-korea-university-of-technology-and-education/homework_03_/runs/yox0werp' target=\"_blank\">2024-11-23_13-18-07</a></strong> to <a href='https://wandb.ai/lss523012-korea-university-of-technology-and-education/homework_03_' target=\"_blank\">Weights & Biases</a> (<a href='https://wandb.me/developer-guide' target=\"_blank\">docs</a>)<br/>"
      ],
      "text/plain": [
       "<IPython.core.display.HTML object>"
      ]
     },
     "metadata": {},
     "output_type": "display_data"
    },
    {
     "data": {
      "text/html": [
       " View project at <a href='https://wandb.ai/lss523012-korea-university-of-technology-and-education/homework_03_' target=\"_blank\">https://wandb.ai/lss523012-korea-university-of-technology-and-education/homework_03_</a>"
      ],
      "text/plain": [
       "<IPython.core.display.HTML object>"
      ]
     },
     "metadata": {},
     "output_type": "display_data"
    },
    {
     "data": {
      "text/html": [
       " View run at <a href='https://wandb.ai/lss523012-korea-university-of-technology-and-education/homework_03_/runs/yox0werp' target=\"_blank\">https://wandb.ai/lss523012-korea-university-of-technology-and-education/homework_03_/runs/yox0werp</a>"
      ],
      "text/plain": [
       "<IPython.core.display.HTML object>"
      ]
     },
     "metadata": {},
     "output_type": "display_data"
    },
    {
     "name": "stdout",
     "output_type": "stream",
     "text": [
      "<__main__.Args object at 0x7efca702e500>\n",
      "{'epochs': 50, 'batch_size': 256, 'learning_rate': 0.001}\n",
      "################################################## 1\n",
      "Best model saved at epoch 1 with validation loss 0.8676\n",
      "Best model saved at epoch 2 with validation loss 0.6639\n",
      "Epoch 2, Train Loss: 0.7488, Val Loss: 0.6639, Train Accuracy: 71.04%, Val Accuracy: 74.60%\n",
      "Best model saved at epoch 3 with validation loss 0.5545\n",
      "Best model saved at epoch 4 with validation loss 0.4771\n",
      "Epoch 4, Train Loss: 0.5046, Val Loss: 0.4771, Train Accuracy: 80.92%, Val Accuracy: 82.62%\n",
      "Best model saved at epoch 5 with validation loss 0.4463\n",
      "Best model saved at epoch 6 with validation loss 0.3852\n",
      "Epoch 6, Train Loss: 0.3964, Val Loss: 0.3852, Train Accuracy: 85.18%, Val Accuracy: 85.92%\n",
      "Best model saved at epoch 7 with validation loss 0.3642\n",
      "Best model saved at epoch 8 with validation loss 0.3411\n",
      "Epoch 8, Train Loss: 0.3393, Val Loss: 0.3411, Train Accuracy: 87.17%, Val Accuracy: 87.40%\n",
      "Best model saved at epoch 10 with validation loss 0.3256\n",
      "Epoch 10, Train Loss: 0.2962, Val Loss: 0.3256, Train Accuracy: 88.87%, Val Accuracy: 88.28%\n",
      "Best model saved at epoch 11 with validation loss 0.3003\n",
      "Best model saved at epoch 12 with validation loss 0.3000\n",
      "Epoch 12, Train Loss: 0.2681, Val Loss: 0.3000, Train Accuracy: 89.94%, Val Accuracy: 88.98%\n",
      "Best model saved at epoch 13 with validation loss 0.2872\n",
      "Best model saved at epoch 14 with validation loss 0.2825\n",
      "Epoch 14, Train Loss: 0.2418, Val Loss: 0.2825, Train Accuracy: 90.93%, Val Accuracy: 90.04%\n",
      "Best model saved at epoch 15 with validation loss 0.2673\n",
      "Best model saved at epoch 16 with validation loss 0.2671\n",
      "Epoch 16, Train Loss: 0.2231, Val Loss: 0.2671, Train Accuracy: 91.65%, Val Accuracy: 90.10%\n",
      "Best model saved at epoch 17 with validation loss 0.2480\n",
      "Epoch 18, Train Loss: 0.2062, Val Loss: 0.2768, Train Accuracy: 92.35%, Val Accuracy: 89.78%\n",
      "Best model saved at epoch 19 with validation loss 0.2465\n",
      "Epoch 20, Train Loss: 0.1977, Val Loss: 0.2591, Train Accuracy: 92.60%, Val Accuracy: 90.70%\n",
      "Best model saved at epoch 21 with validation loss 0.2389\n",
      "Best model saved at epoch 22 with validation loss 0.2274\n",
      "Epoch 22, Train Loss: 0.1773, Val Loss: 0.2274, Train Accuracy: 93.57%, Val Accuracy: 91.72%\n",
      "Epoch 24, Train Loss: 0.1662, Val Loss: 0.2438, Train Accuracy: 93.78%, Val Accuracy: 91.50%\n",
      "Best model saved at epoch 26 with validation loss 0.2232\n",
      "Epoch 26, Train Loss: 0.1600, Val Loss: 0.2232, Train Accuracy: 94.13%, Val Accuracy: 91.80%\n",
      "Epoch 28, Train Loss: 0.1438, Val Loss: 0.2405, Train Accuracy: 94.69%, Val Accuracy: 91.66%\n",
      "Epoch 30, Train Loss: 0.1303, Val Loss: 0.2386, Train Accuracy: 95.26%, Val Accuracy: 92.10%\n",
      "Epoch 32, Train Loss: 0.1199, Val Loss: 0.2369, Train Accuracy: 95.54%, Val Accuracy: 92.10%\n",
      "Epoch 34, Train Loss: 0.1237, Val Loss: 0.2410, Train Accuracy: 95.33%, Val Accuracy: 92.02%\n",
      "Epoch 36, Train Loss: 0.1070, Val Loss: 0.2492, Train Accuracy: 96.05%, Val Accuracy: 91.90%\n",
      "Epoch 38, Train Loss: 0.0922, Val Loss: 0.2494, Train Accuracy: 96.54%, Val Accuracy: 92.24%\n",
      "Epoch 40, Train Loss: 0.0767, Val Loss: 0.2817, Train Accuracy: 97.21%, Val Accuracy: 92.04%\n",
      "Epoch 42, Train Loss: 0.0712, Val Loss: 0.2643, Train Accuracy: 97.37%, Val Accuracy: 92.28%\n",
      "Epoch 44, Train Loss: 0.0600, Val Loss: 0.3045, Train Accuracy: 97.70%, Val Accuracy: 91.90%\n",
      "Epoch 46, Train Loss: 0.0662, Val Loss: 0.2792, Train Accuracy: 97.50%, Val Accuracy: 91.70%\n",
      "Epoch 48, Train Loss: 0.0536, Val Loss: 0.3104, Train Accuracy: 97.96%, Val Accuracy: 92.30%\n",
      "Epoch 50, Train Loss: 0.0378, Val Loss: 0.3176, Train Accuracy: 98.63%, Val Accuracy: 92.26%\n"
     ]
    },
    {
     "data": {
      "application/vnd.jupyter.widget-view+json": {
       "model_id": "",
       "version_major": 2,
       "version_minor": 0
      },
      "text/plain": [
       "VBox(children=(Label(value='0.009 MB of 0.009 MB uploaded\\r'), FloatProgress(value=1.0, max=1.0)))"
      ]
     },
     "metadata": {},
     "output_type": "display_data"
    },
    {
     "data": {
      "text/html": [
       "\n",
       "    <style>\n",
       "        .wandb-row {\n",
       "            display: flex;\n",
       "            flex-direction: row;\n",
       "            flex-wrap: wrap;\n",
       "            justify-content: flex-start;\n",
       "            width: 100%;\n",
       "        }\n",
       "        .wandb-col {\n",
       "            display: flex;\n",
       "            flex-direction: column;\n",
       "            flex-basis: 100%;\n",
       "            flex: 1;\n",
       "            padding: 10px;\n",
       "        }\n",
       "    </style>\n",
       "<div class=\"wandb-row\"><div class=\"wandb-col\"><h3>Run history:</h3><br/><table class=\"wandb\"><tr><td>Epoch</td><td>▁▁▁▁▂▂▂▂▂▃▃▃▃▃▃▄▄▄▄▄▅▅▅▅▅▅▆▆▆▆▆▆▇▇▇▇▇███</td></tr><tr><td>Training Accuracy</td><td>▁▄▅▆▆▆▆▇▇▇▇▇▇▇▇▇▇▇▇▇▇▇▇█████████████████</td></tr><tr><td>Training loss</td><td>█▄▄▃▃▃▂▂▂▂▂▂▂▂▂▂▂▂▂▂▂▂▂▁▁▁▁▁▁▁▁▁▁▁▁▁▁▁▁▁</td></tr><tr><td>Validation Accuracy</td><td>▁▃▄▅▆▆▇▇▇▇▇▇▇█▇█████████████████████████</td></tr><tr><td>Validation loss</td><td>█▆▅▄▃▃▂▂▂▂▂▂▁▁▂▁▁▁▁▁▁▁▁▁▁▁▁▁▁▂▁▁▂▁▂▂▂▂▂▂</td></tr></table><br/></div><div class=\"wandb-col\"><h3>Run summary:</h3><br/><table class=\"wandb\"><tr><td>Epoch</td><td>50</td></tr><tr><td>Training Accuracy</td><td>98.62909</td></tr><tr><td>Training loss</td><td>0.03785</td></tr><tr><td>Validation Accuracy</td><td>92.26</td></tr><tr><td>Validation loss</td><td>0.31764</td></tr></table><br/></div></div>"
      ],
      "text/plain": [
       "<IPython.core.display.HTML object>"
      ]
     },
     "metadata": {},
     "output_type": "display_data"
    },
    {
     "data": {
      "text/html": [
       " View run <strong style=\"color:#cdcd00\">2024-11-23_13-18-07</strong> at: <a href='https://wandb.ai/lss523012-korea-university-of-technology-and-education/homework_03_/runs/yox0werp' target=\"_blank\">https://wandb.ai/lss523012-korea-university-of-technology-and-education/homework_03_/runs/yox0werp</a><br/> View project at: <a href='https://wandb.ai/lss523012-korea-university-of-technology-and-education/homework_03_' target=\"_blank\">https://wandb.ai/lss523012-korea-university-of-technology-and-education/homework_03_</a><br/>Synced 5 W&B file(s), 0 media file(s), 0 artifact file(s) and 0 other file(s)"
      ],
      "text/plain": [
       "<IPython.core.display.HTML object>"
      ]
     },
     "metadata": {},
     "output_type": "display_data"
    },
    {
     "data": {
      "text/html": [
       "Find logs at: <code>./wandb/run-20241123_131807-yox0werp/logs</code>"
      ],
      "text/plain": [
       "<IPython.core.display.HTML object>"
      ]
     },
     "metadata": {},
     "output_type": "display_data"
    },
    {
     "name": "stdout",
     "output_type": "stream",
     "text": [
      "Test Accuracy: 91.54%\n",
      "Final Test Accuracy: 91.54%\n"
     ]
    }
   ],
   "source": [
    "if __name__ == \"__main__\":\n",
    "    \n",
    "    class Args:\n",
    "        wandb = True\n",
    "        batch_size = 256\n",
    "        epochs = 50  \n",
    "        validation_intervals = 10\n",
    "        early_stop_patience = 10\n",
    "\n",
    "    args = Args()  # args 추가\n",
    "    main(args)"
   ]
  },
  {
   "cell_type": "markdown",
   "metadata": {},
   "source": [
    "# 이번 시도의 wandb 사진입니다. \n",
    "![My Screenshot](C:\\Users\\lss52\\Downloads\\VGG_chart_batch256.png)\n",
    "\n",
    "이번 시도는 batch_size를 256으로 두고 실험을 해본 모습입니다. valdation accurancy는 최고 92.26%가 나오게 되었고, 이번 학습의 test결과 91.54가 나오게 되었습니다. "
   ]
  },
  {
   "cell_type": "code",
   "execution_count": 39,
   "metadata": {},
   "outputs": [
    {
     "data": {
      "text/html": [
       "Changes to your `wandb` environment variables will be ignored because your `wandb` session has already started. For more information on how to modify your settings with `wandb.init()` arguments, please refer to <a href='https://wandb.me/wandb-init' target=\"_blank\">the W&B docs</a>."
      ],
      "text/plain": [
       "<IPython.core.display.HTML object>"
      ]
     },
     "metadata": {},
     "output_type": "display_data"
    },
    {
     "name": "stderr",
     "output_type": "stream",
     "text": [
      "\u001b[34m\u001b[1mwandb\u001b[0m: Currently logged in as: \u001b[33mlss523012\u001b[0m (\u001b[33mlss523012-korea-university-of-technology-and-education\u001b[0m). Use \u001b[1m`wandb login --relogin`\u001b[0m to force relogin\n"
     ]
    },
    {
     "data": {
      "application/vnd.jupyter.widget-view+json": {
       "model_id": "e228f62da5ca4d88bb8340edf845b7e7",
       "version_major": 2,
       "version_minor": 0
      },
      "text/plain": [
       "VBox(children=(Label(value='Waiting for wandb.init()...\\r'), FloatProgress(value=0.011113040811485715, max=1.0…"
      ]
     },
     "metadata": {},
     "output_type": "display_data"
    },
    {
     "data": {
      "text/html": [
       "Tracking run with wandb version 0.18.7"
      ],
      "text/plain": [
       "<IPython.core.display.HTML object>"
      ]
     },
     "metadata": {},
     "output_type": "display_data"
    },
    {
     "data": {
      "text/html": [
       "Run data is saved locally in <code>/home/work/DL_session/wandb/run-20241123_131410-fa01706b</code>"
      ],
      "text/plain": [
       "<IPython.core.display.HTML object>"
      ]
     },
     "metadata": {},
     "output_type": "display_data"
    },
    {
     "data": {
      "text/html": [
       "Syncing run <strong><a href='https://wandb.ai/lss523012-korea-university-of-technology-and-education/homework_03_/runs/fa01706b' target=\"_blank\">2024-11-23_13-14-09</a></strong> to <a href='https://wandb.ai/lss523012-korea-university-of-technology-and-education/homework_03_' target=\"_blank\">Weights & Biases</a> (<a href='https://wandb.me/developer-guide' target=\"_blank\">docs</a>)<br/>"
      ],
      "text/plain": [
       "<IPython.core.display.HTML object>"
      ]
     },
     "metadata": {},
     "output_type": "display_data"
    },
    {
     "data": {
      "text/html": [
       " View project at <a href='https://wandb.ai/lss523012-korea-university-of-technology-and-education/homework_03_' target=\"_blank\">https://wandb.ai/lss523012-korea-university-of-technology-and-education/homework_03_</a>"
      ],
      "text/plain": [
       "<IPython.core.display.HTML object>"
      ]
     },
     "metadata": {},
     "output_type": "display_data"
    },
    {
     "data": {
      "text/html": [
       " View run at <a href='https://wandb.ai/lss523012-korea-university-of-technology-and-education/homework_03_/runs/fa01706b' target=\"_blank\">https://wandb.ai/lss523012-korea-university-of-technology-and-education/homework_03_/runs/fa01706b</a>"
      ],
      "text/plain": [
       "<IPython.core.display.HTML object>"
      ]
     },
     "metadata": {},
     "output_type": "display_data"
    },
    {
     "name": "stdout",
     "output_type": "stream",
     "text": [
      "<__main__.Args object at 0x7efca702d840>\n",
      "{'epochs': 50, 'batch_size': 512, 'learning_rate': 0.001}\n",
      "################################################## 1\n",
      "Best model saved at epoch 1 with validation loss 0.9412\n",
      "Best model saved at epoch 2 with validation loss 0.6517\n",
      "Epoch 2, Train Loss: 0.7574, Val Loss: 0.6517, Train Accuracy: 71.68%, Val Accuracy: 74.76%\n",
      "Best model saved at epoch 3 with validation loss 0.5507\n",
      "Best model saved at epoch 4 with validation loss 0.4737\n",
      "Epoch 4, Train Loss: 0.4965, Val Loss: 0.4737, Train Accuracy: 81.07%, Val Accuracy: 81.94%\n",
      "Best model saved at epoch 5 with validation loss 0.4418\n",
      "Best model saved at epoch 6 with validation loss 0.3849\n",
      "Epoch 6, Train Loss: 0.3888, Val Loss: 0.3849, Train Accuracy: 85.65%, Val Accuracy: 85.88%\n",
      "Best model saved at epoch 7 with validation loss 0.3826\n",
      "Best model saved at epoch 8 with validation loss 0.3466\n",
      "Epoch 8, Train Loss: 0.3303, Val Loss: 0.3466, Train Accuracy: 87.74%, Val Accuracy: 87.52%\n",
      "Best model saved at epoch 9 with validation loss 0.3248\n",
      "Best model saved at epoch 10 with validation loss 0.3162\n",
      "Epoch 10, Train Loss: 0.2914, Val Loss: 0.3162, Train Accuracy: 89.18%, Val Accuracy: 88.16%\n",
      "Best model saved at epoch 11 with validation loss 0.3076\n",
      "Best model saved at epoch 12 with validation loss 0.2784\n",
      "Epoch 12, Train Loss: 0.2564, Val Loss: 0.2784, Train Accuracy: 90.41%, Val Accuracy: 89.86%\n",
      "Best model saved at epoch 13 with validation loss 0.2768\n",
      "Best model saved at epoch 14 with validation loss 0.2641\n",
      "Epoch 14, Train Loss: 0.2379, Val Loss: 0.2641, Train Accuracy: 91.21%, Val Accuracy: 90.04%\n",
      "Best model saved at epoch 16 with validation loss 0.2579\n",
      "Epoch 16, Train Loss: 0.2149, Val Loss: 0.2579, Train Accuracy: 92.06%, Val Accuracy: 90.00%\n",
      "Best model saved at epoch 17 with validation loss 0.2562\n",
      "Best model saved at epoch 18 with validation loss 0.2454\n",
      "Epoch 18, Train Loss: 0.2028, Val Loss: 0.2454, Train Accuracy: 92.59%, Val Accuracy: 90.50%\n",
      "Best model saved at epoch 20 with validation loss 0.2451\n",
      "Epoch 20, Train Loss: 0.1902, Val Loss: 0.2451, Train Accuracy: 93.03%, Val Accuracy: 91.10%\n",
      "Best model saved at epoch 21 with validation loss 0.2377\n",
      "Best model saved at epoch 22 with validation loss 0.2314\n",
      "Epoch 22, Train Loss: 0.1769, Val Loss: 0.2314, Train Accuracy: 93.50%, Val Accuracy: 91.12%\n",
      "Best model saved at epoch 24 with validation loss 0.2172\n",
      "Epoch 24, Train Loss: 0.1613, Val Loss: 0.2172, Train Accuracy: 94.07%, Val Accuracy: 92.40%\n",
      "Epoch 26, Train Loss: 0.1476, Val Loss: 0.2275, Train Accuracy: 94.63%, Val Accuracy: 91.92%\n",
      "Epoch 28, Train Loss: 0.1398, Val Loss: 0.2366, Train Accuracy: 94.82%, Val Accuracy: 91.82%\n",
      "Epoch 30, Train Loss: 0.1299, Val Loss: 0.2210, Train Accuracy: 95.24%, Val Accuracy: 92.40%\n",
      "Best model saved at epoch 31 with validation loss 0.2160\n",
      "Best model saved at epoch 32 with validation loss 0.2122\n",
      "Epoch 32, Train Loss: 0.1150, Val Loss: 0.2122, Train Accuracy: 95.91%, Val Accuracy: 92.60%\n",
      "Epoch 34, Train Loss: 0.1029, Val Loss: 0.2393, Train Accuracy: 96.25%, Val Accuracy: 92.38%\n",
      "Epoch 36, Train Loss: 0.1044, Val Loss: 0.2404, Train Accuracy: 96.10%, Val Accuracy: 92.10%\n",
      "Epoch 38, Train Loss: 0.0924, Val Loss: 0.2382, Train Accuracy: 96.58%, Val Accuracy: 92.28%\n",
      "Epoch 40, Train Loss: 0.0823, Val Loss: 0.2558, Train Accuracy: 96.95%, Val Accuracy: 92.10%\n",
      "Epoch 42, Train Loss: 0.0638, Val Loss: 0.2477, Train Accuracy: 97.67%, Val Accuracy: 92.78%\n",
      "Epoch 44, Train Loss: 0.0592, Val Loss: 0.2892, Train Accuracy: 97.81%, Val Accuracy: 92.26%\n",
      "Epoch 46, Train Loss: 0.0620, Val Loss: 0.2770, Train Accuracy: 97.69%, Val Accuracy: 92.62%\n",
      "Epoch 48, Train Loss: 0.0530, Val Loss: 0.3124, Train Accuracy: 98.03%, Val Accuracy: 92.16%\n",
      "Epoch 50, Train Loss: 0.0434, Val Loss: 0.2902, Train Accuracy: 98.41%, Val Accuracy: 92.20%\n"
     ]
    },
    {
     "data": {
      "application/vnd.jupyter.widget-view+json": {
       "model_id": "",
       "version_major": 2,
       "version_minor": 0
      },
      "text/plain": [
       "VBox(children=(Label(value='0.009 MB of 0.009 MB uploaded\\r'), FloatProgress(value=1.0, max=1.0)))"
      ]
     },
     "metadata": {},
     "output_type": "display_data"
    },
    {
     "data": {
      "text/html": [
       "\n",
       "    <style>\n",
       "        .wandb-row {\n",
       "            display: flex;\n",
       "            flex-direction: row;\n",
       "            flex-wrap: wrap;\n",
       "            justify-content: flex-start;\n",
       "            width: 100%;\n",
       "        }\n",
       "        .wandb-col {\n",
       "            display: flex;\n",
       "            flex-direction: column;\n",
       "            flex-basis: 100%;\n",
       "            flex: 1;\n",
       "            padding: 10px;\n",
       "        }\n",
       "    </style>\n",
       "<div class=\"wandb-row\"><div class=\"wandb-col\"><h3>Run history:</h3><br/><table class=\"wandb\"><tr><td>Epoch</td><td>▁▁▁▁▂▂▂▂▂▃▃▃▃▃▃▄▄▄▄▄▅▅▅▅▅▅▆▆▆▆▆▆▇▇▇▇▇███</td></tr><tr><td>Training Accuracy</td><td>▁▅▅▆▆▇▇▇▇▇▇▇▇▇▇▇▇▇▇▇████████████████████</td></tr><tr><td>Training loss</td><td>█▄▄▃▃▂▂▂▂▂▂▂▂▂▂▂▂▂▂▂▁▁▁▁▁▁▁▁▁▁▁▁▁▁▁▁▁▁▁▁</td></tr><tr><td>Validation Accuracy</td><td>▁▃▄▅▆▆▇▇▇▇▇▇▇▇▇▇████████████████████████</td></tr><tr><td>Validation loss</td><td>█▅▄▄▃▃▂▂▂▂▂▁▁▁▁▂▁▁▁▁▁▁▁▁▁▁▁▁▁▁▁▂▁▁▂▂▂▂▂▂</td></tr></table><br/></div><div class=\"wandb-col\"><h3>Run summary:</h3><br/><table class=\"wandb\"><tr><td>Epoch</td><td>50</td></tr><tr><td>Training Accuracy</td><td>98.40909</td></tr><tr><td>Training loss</td><td>0.04343</td></tr><tr><td>Validation Accuracy</td><td>92.2</td></tr><tr><td>Validation loss</td><td>0.29021</td></tr></table><br/></div></div>"
      ],
      "text/plain": [
       "<IPython.core.display.HTML object>"
      ]
     },
     "metadata": {},
     "output_type": "display_data"
    },
    {
     "data": {
      "text/html": [
       " View run <strong style=\"color:#cdcd00\">2024-11-23_13-14-09</strong> at: <a href='https://wandb.ai/lss523012-korea-university-of-technology-and-education/homework_03_/runs/fa01706b' target=\"_blank\">https://wandb.ai/lss523012-korea-university-of-technology-and-education/homework_03_/runs/fa01706b</a><br/> View project at: <a href='https://wandb.ai/lss523012-korea-university-of-technology-and-education/homework_03_' target=\"_blank\">https://wandb.ai/lss523012-korea-university-of-technology-and-education/homework_03_</a><br/>Synced 5 W&B file(s), 0 media file(s), 0 artifact file(s) and 0 other file(s)"
      ],
      "text/plain": [
       "<IPython.core.display.HTML object>"
      ]
     },
     "metadata": {},
     "output_type": "display_data"
    },
    {
     "data": {
      "text/html": [
       "Find logs at: <code>./wandb/run-20241123_131410-fa01706b/logs</code>"
      ],
      "text/plain": [
       "<IPython.core.display.HTML object>"
      ]
     },
     "metadata": {},
     "output_type": "display_data"
    },
    {
     "name": "stdout",
     "output_type": "stream",
     "text": [
      "Test Accuracy: 92.52%\n",
      "Final Test Accuracy: 92.52%\n"
     ]
    }
   ],
   "source": [
    "if __name__ == \"__main__\":\n",
    "    \n",
    "    class Args:\n",
    "        wandb = True\n",
    "        batch_size = 512\n",
    "        epochs = 50  \n",
    "        validation_intervals = 10\n",
    "        early_stop_patience = 10\n",
    "\n",
    "    args = Args()  # args 추가\n",
    "    main(args)"
   ]
  },
  {
   "cell_type": "markdown",
   "metadata": {
    "id": "ZNwsF6_v8Jeo"
   },
   "source": [
    "# 이번 시도의 wandb 사진입니다. \n",
    "![My Screenshot](C:\\Users\\lss52\\Downloads\\VGG_chart_batch512.png)\n",
    "\n",
    "이번 시도는 batch_size를 512로 두고 실험을 해본 모습입니다. valdation accurancy는 최고 92.78%가 나오게 되었고, 이번 학습의 test결과 92.52가 나오게 되었습니다. "
   ]
  },
  {
   "cell_type": "markdown",
   "metadata": {},
   "source": [
    "# ======================================\n",
    "# 문제 4번 분류 예측 결과 확인 하기 "
   ]
  },
  {
   "cell_type": "code",
   "execution_count": 43,
   "metadata": {},
   "outputs": [],
   "source": [
    "def load_model(model, save_path=\"best_model.pth\"):\n",
    "    model.load_state_dict(torch.load(save_path))\n",
    "    model.eval()  # 평가 모드로 전환\n",
    "    return model"
   ]
  },
  {
   "cell_type": "code",
   "execution_count": 44,
   "metadata": {},
   "outputs": [],
   "source": [
    "import random\n",
    "import torch\n",
    "import matplotlib.pyplot as plt\n",
    "from torchvision.transforms import ToPILImage"
   ]
  },
  {
   "cell_type": "code",
   "execution_count": 53,
   "metadata": {},
   "outputs": [
    {
     "name": "stdout",
     "output_type": "stream",
     "text": [
      "Misclassified Sample 5:\n",
      "  True Label: Shirt\n",
      "  Predicted: Coat\n",
      "  Reason (Possible): The model may have misinterpreted fine details in the image, or the class may have similar features to another class. \n",
      "--------------------------------------------------\n",
      "Misclassified Sample 10:\n",
      "  True Label: Coat\n",
      "  Predicted: Shirt\n",
      "  Reason (Possible): The model may have misinterpreted fine details in the image, or the class may have similar features to another class. \n",
      "--------------------------------------------------\n"
     ]
    },
    {
     "data": {
      "image/png": "[encoded data removed]",
      "text/plain": [
       "<Figure size 640x480 with 10 Axes>"
      ]
     },
     "metadata": {},
     "output_type": "display_data"
    },
    {
     "name": "stdout",
     "output_type": "stream",
     "text": [
      "\n",
      "Total Misclassified Samples: 2 / 10\n"
     ]
    }
   ],
   "source": [
    "def evaluate_random_samples(model, test_data_loader, class_labels, num_samples=10):\n",
    "    # 학습된 모델 로드\n",
    "    device = \"cuda\" if torch.cuda.is_available() else \"cpu\"\n",
    "    model = model.to(device)\n",
    "    model.eval()\n",
    "\n",
    "    # 테스트 데이터에서 10개의 샘플을 랜덤으로 선택\n",
    "    test_images, test_labels = [], []\n",
    "    for inputs, targets in test_data_loader:\n",
    "        test_images.extend(inputs)\n",
    "        test_labels.extend(targets)\n",
    "        if len(test_images) >= 10000:  # FashionMNIST 테스트 데이터는 10,000개\n",
    "            break\n",
    "\n",
    "    # 10개 샘플을 랜덤 선택\n",
    "    indices = random.sample(range(len(test_images)), num_samples)\n",
    "    random_images = [test_images[i] for i in indices]\n",
    "    random_labels = [test_labels[i] for i in indices]\n",
    "\n",
    "    # 분류 예측 및 시각화\n",
    "    incorrect_count = 0  # 틀린 예측 카운트\n",
    "    for idx, (image, label) in enumerate(zip(random_images, random_labels)):\n",
    "        image = image.to(device).unsqueeze(0)  # 배치 차원 추가\n",
    "        label = label.to(device)\n",
    "\n",
    "        # 모델 예측\n",
    "        with torch.no_grad():\n",
    "            output = model(image)\n",
    "            predicted_label = output.argmax(dim=1).item()\n",
    "\n",
    "        # 이미지 출력\n",
    "        plt.subplot(1, num_samples, idx + 1)\n",
    "        plt.imshow(ToPILImage()(image.cpu().squeeze()), cmap=\"gray\")\n",
    "        plt.axis(\"off\")\n",
    "        plt.title(f\"True: {class_labels[label.item()]}\\nPred: {class_labels[predicted_label]}\",\n",
    "                  fontsize=8, color=\"green\" if predicted_label == label.item() else \"red\")\n",
    "\n",
    "        # 틀린 예측 해석\n",
    "        if predicted_label != label.item():\n",
    "            incorrect_count += 1\n",
    "            print(f\"Misclassified Sample {idx + 1}:\")\n",
    "            print(f\"  True Label: {class_labels[label.item()]}\")\n",
    "            print(f\"  Predicted: {class_labels[predicted_label]}\")\n",
    "            print(\"  Reason (Possible): The model may have misinterpreted fine details in the image, \"\n",
    "                  \"or the class may have similar features to another class. \")\n",
    "            print(\"-\" * 50)\n",
    "\n",
    "    plt.show()\n",
    "\n",
    "    print(f\"\\nTotal Misclassified Samples: {incorrect_count} / {num_samples}\")\n",
    "\n",
    "\n",
    "# 실행 예시\n",
    "if __name__ == \"__main__\":\n",
    "    # Class labels for FashionMNIST\n",
    "    class_labels = [\n",
    "        \"T-shirt/top\", \"Trouser\", \"Pullover\", \"Dress\", \"Coat\",\n",
    "        \"Sandal\", \"Shirt\", \"Sneaker\", \"Bag\", \"Ankle boot\"\n",
    "    ]\n",
    "\n",
    "\n",
    "    # 모델 로드 (이미 학습된 모델을 가져옵니다)\n",
    "    model = get_vgg_model()  # 혹은 get_googlenet_model()\n",
    "    model = load_model(model, save_path=\"best_model.pth\")\n",
    "\n",
    "    # 샘플 테스트 데이터 분류 및 결과 확인\n",
    "    evaluate_random_samples(model, test_data_loader, class_labels, num_samples=10)"
   ]
  },
  {
   "cell_type": "markdown",
   "metadata": {},
   "source": [
    "5번과 같은 경우 아마 팔다리의 실루엣이 보이고, 면적이 넓은것으로 보아 코트는 대부분이 넓을 것이라 생각해 셔츠를 코트로 예측하지 않았나 생각된다.\n",
    "\n",
    "10번과 같은 경우 코트지만 크게 넓지 않은 면적과 팔다리가 비교적 잘 드러나는 특징으로 인해 셔츠로 예측되지 않았나 생각된다."
   ]
  },
  {
   "cell_type": "code",
   "execution_count": null,
   "metadata": {},
   "outputs": [],
   "source": []
  }
 ],
 "metadata": {
  "colab": {
   "authorship_tag": "ABX9TyOLCsXKvCYGfNgvH0eM8Hky",
   "provenance": []
  },
  "kernelspec": {
   "display_name": "PyTorch 2.3 (NGC 24.03/Python 3.10) on Backend.AI",
   "language": "python",
   "name": "python3"
  },
  "language_info": {
   "codemirror_mode": {
    "name": "ipython",
    "version": 3
   },
   "file_extension": ".py",
   "mimetype": "text/x-python",
   "name": "python",
   "nbconvert_exporter": "python",
   "pygments_lexer": "ipython3",
   "version": "3.10.12"
  }
 },
 "nbformat": 4,
 "nbformat_minor": 1
}
